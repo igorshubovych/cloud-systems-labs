{
 "cells": [
  {
   "cell_type": "markdown",
   "id": "92b4a562",
   "metadata": {},
   "source": [
    "# Лаборатона робота 6\n",
    "## Наївний Байєс в Python"
   ]
  },
  {
   "cell_type": "markdown",
   "id": "4e68bd74",
   "metadata": {},
   "source": [
    "### Завдання 2. Розібрати приклад: прогнозування з використанням теореми Байєса."
   ]
  },
  {
   "cell_type": "markdown",
   "id": "2b1d91b5",
   "metadata": {},
   "source": [
    "Готуємо дані"
   ]
  },
  {
   "cell_type": "code",
   "execution_count": 99,
   "id": "edc17997",
   "metadata": {},
   "outputs": [
    {
     "data": {
      "application/vnd.microsoft.datawrangler.viewer.v0+json": {
       "columns": [
        {
         "name": "index",
         "rawType": "int64",
         "type": "integer"
        },
        {
         "name": "Day",
         "rawType": "object",
         "type": "string"
        },
        {
         "name": "Outlook",
         "rawType": "object",
         "type": "string"
        },
        {
         "name": "Humidity",
         "rawType": "object",
         "type": "string"
        },
        {
         "name": "Wind",
         "rawType": "object",
         "type": "string"
        },
        {
         "name": "Play",
         "rawType": "object",
         "type": "string"
        }
       ],
       "ref": "7e524190-d559-49de-9970-d2da9d2126c5",
       "rows": [
        [
         "0",
         "D1",
         "Sunny",
         "High",
         "Weak",
         "No"
        ],
        [
         "1",
         "D2",
         "Sunny",
         "High",
         "Strong",
         "No"
        ],
        [
         "2",
         "D3",
         "Overcast",
         "High",
         "Weak",
         "Yes"
        ],
        [
         "3",
         "D4",
         "Rain",
         "High",
         "Weak",
         "Yes"
        ],
        [
         "4",
         "D5",
         "Rain",
         "Normal",
         "Weak",
         "Yes"
        ],
        [
         "5",
         "D6",
         "Rain",
         "Normal",
         "Strong",
         "No"
        ],
        [
         "6",
         "D7",
         "Overcast",
         "Normal",
         "Strong",
         "Yes"
        ],
        [
         "7",
         "D8",
         "Sunny",
         "High",
         "Weak",
         "No"
        ],
        [
         "8",
         "D9",
         "Sunny",
         "Normal",
         "Weak",
         "Yes"
        ],
        [
         "9",
         "D10",
         "Rain",
         "Normal",
         "Weak",
         "Yes"
        ],
        [
         "10",
         "D11",
         "Sunny",
         "Normal",
         "Strong",
         "Yes"
        ],
        [
         "11",
         "D12",
         "Overcast",
         "High",
         "Strong",
         "Yes"
        ],
        [
         "12",
         "D13",
         "Overcast",
         "Normal",
         "Weak",
         "Yes"
        ],
        [
         "13",
         "D14",
         "Rain",
         "High",
         "Strong",
         "No"
        ]
       ],
       "shape": {
        "columns": 5,
        "rows": 14
       }
      },
      "text/html": [
       "<div>\n",
       "<style scoped>\n",
       "    .dataframe tbody tr th:only-of-type {\n",
       "        vertical-align: middle;\n",
       "    }\n",
       "\n",
       "    .dataframe tbody tr th {\n",
       "        vertical-align: top;\n",
       "    }\n",
       "\n",
       "    .dataframe thead th {\n",
       "        text-align: right;\n",
       "    }\n",
       "</style>\n",
       "<table border=\"1\" class=\"dataframe\">\n",
       "  <thead>\n",
       "    <tr style=\"text-align: right;\">\n",
       "      <th></th>\n",
       "      <th>Day</th>\n",
       "      <th>Outlook</th>\n",
       "      <th>Humidity</th>\n",
       "      <th>Wind</th>\n",
       "      <th>Play</th>\n",
       "    </tr>\n",
       "  </thead>\n",
       "  <tbody>\n",
       "    <tr>\n",
       "      <th>0</th>\n",
       "      <td>D1</td>\n",
       "      <td>Sunny</td>\n",
       "      <td>High</td>\n",
       "      <td>Weak</td>\n",
       "      <td>No</td>\n",
       "    </tr>\n",
       "    <tr>\n",
       "      <th>1</th>\n",
       "      <td>D2</td>\n",
       "      <td>Sunny</td>\n",
       "      <td>High</td>\n",
       "      <td>Strong</td>\n",
       "      <td>No</td>\n",
       "    </tr>\n",
       "    <tr>\n",
       "      <th>2</th>\n",
       "      <td>D3</td>\n",
       "      <td>Overcast</td>\n",
       "      <td>High</td>\n",
       "      <td>Weak</td>\n",
       "      <td>Yes</td>\n",
       "    </tr>\n",
       "    <tr>\n",
       "      <th>3</th>\n",
       "      <td>D4</td>\n",
       "      <td>Rain</td>\n",
       "      <td>High</td>\n",
       "      <td>Weak</td>\n",
       "      <td>Yes</td>\n",
       "    </tr>\n",
       "    <tr>\n",
       "      <th>4</th>\n",
       "      <td>D5</td>\n",
       "      <td>Rain</td>\n",
       "      <td>Normal</td>\n",
       "      <td>Weak</td>\n",
       "      <td>Yes</td>\n",
       "    </tr>\n",
       "    <tr>\n",
       "      <th>5</th>\n",
       "      <td>D6</td>\n",
       "      <td>Rain</td>\n",
       "      <td>Normal</td>\n",
       "      <td>Strong</td>\n",
       "      <td>No</td>\n",
       "    </tr>\n",
       "    <tr>\n",
       "      <th>6</th>\n",
       "      <td>D7</td>\n",
       "      <td>Overcast</td>\n",
       "      <td>Normal</td>\n",
       "      <td>Strong</td>\n",
       "      <td>Yes</td>\n",
       "    </tr>\n",
       "    <tr>\n",
       "      <th>7</th>\n",
       "      <td>D8</td>\n",
       "      <td>Sunny</td>\n",
       "      <td>High</td>\n",
       "      <td>Weak</td>\n",
       "      <td>No</td>\n",
       "    </tr>\n",
       "    <tr>\n",
       "      <th>8</th>\n",
       "      <td>D9</td>\n",
       "      <td>Sunny</td>\n",
       "      <td>Normal</td>\n",
       "      <td>Weak</td>\n",
       "      <td>Yes</td>\n",
       "    </tr>\n",
       "    <tr>\n",
       "      <th>9</th>\n",
       "      <td>D10</td>\n",
       "      <td>Rain</td>\n",
       "      <td>Normal</td>\n",
       "      <td>Weak</td>\n",
       "      <td>Yes</td>\n",
       "    </tr>\n",
       "    <tr>\n",
       "      <th>10</th>\n",
       "      <td>D11</td>\n",
       "      <td>Sunny</td>\n",
       "      <td>Normal</td>\n",
       "      <td>Strong</td>\n",
       "      <td>Yes</td>\n",
       "    </tr>\n",
       "    <tr>\n",
       "      <th>11</th>\n",
       "      <td>D12</td>\n",
       "      <td>Overcast</td>\n",
       "      <td>High</td>\n",
       "      <td>Strong</td>\n",
       "      <td>Yes</td>\n",
       "    </tr>\n",
       "    <tr>\n",
       "      <th>12</th>\n",
       "      <td>D13</td>\n",
       "      <td>Overcast</td>\n",
       "      <td>Normal</td>\n",
       "      <td>Weak</td>\n",
       "      <td>Yes</td>\n",
       "    </tr>\n",
       "    <tr>\n",
       "      <th>13</th>\n",
       "      <td>D14</td>\n",
       "      <td>Rain</td>\n",
       "      <td>High</td>\n",
       "      <td>Strong</td>\n",
       "      <td>No</td>\n",
       "    </tr>\n",
       "  </tbody>\n",
       "</table>\n",
       "</div>"
      ],
      "text/plain": [
       "    Day   Outlook Humidity    Wind Play\n",
       "0    D1     Sunny     High    Weak   No\n",
       "1    D2     Sunny     High  Strong   No\n",
       "2    D3  Overcast     High    Weak  Yes\n",
       "3    D4      Rain     High    Weak  Yes\n",
       "4    D5      Rain   Normal    Weak  Yes\n",
       "5    D6      Rain   Normal  Strong   No\n",
       "6    D7  Overcast   Normal  Strong  Yes\n",
       "7    D8     Sunny     High    Weak   No\n",
       "8    D9     Sunny   Normal    Weak  Yes\n",
       "9   D10      Rain   Normal    Weak  Yes\n",
       "10  D11     Sunny   Normal  Strong  Yes\n",
       "11  D12  Overcast     High  Strong  Yes\n",
       "12  D13  Overcast   Normal    Weak  Yes\n",
       "13  D14      Rain     High  Strong   No"
      ]
     },
     "execution_count": 99,
     "metadata": {},
     "output_type": "execute_result"
    }
   ],
   "source": [
    "import pandas as pd\n",
    "import numpy as np\n",
    "\n",
    "data = np.array([\n",
    "    # Day,  Outlook,     Humidity,  Wind,     Play\n",
    "    ['D1',  'Sunny',    'High',    'Weak',   'No'],\n",
    "    ['D2',  'Sunny',    'High',    'Strong', 'No'],\n",
    "    ['D3',  'Overcast', 'High',    'Weak',   'Yes'],\n",
    "    ['D4',  'Rain',     'High',    'Weak',   'Yes'],\n",
    "    ['D5',  'Rain',     'Normal',  'Weak',   'Yes'],\n",
    "    ['D6',  'Rain',     'Normal',  'Strong', 'No'],\n",
    "    ['D7',  'Overcast', 'Normal',  'Strong', 'Yes'],\n",
    "    ['D8',  'Sunny',    'High',    'Weak',   'No'],\n",
    "    ['D9',  'Sunny',    'Normal',  'Weak',   'Yes'],\n",
    "    ['D10', 'Rain',     'Normal',  'Weak',   'Yes'],\n",
    "    ['D11', 'Sunny',    'Normal',  'Strong', 'Yes'],\n",
    "    ['D12', 'Overcast', 'High',    'Strong', 'Yes'],\n",
    "    ['D13', 'Overcast', 'Normal',  'Weak',   'Yes'],\n",
    "    ['D14', 'Rain',     'High',    'Strong', 'No']\n",
    "])\n",
    "\n",
    "# Define column names\n",
    "columns = ['Day', 'Outlook', 'Humidity', 'Wind', 'Play']\n",
    "\n",
    "# Create the DataFrame\n",
    "df = pd.DataFrame(data, columns=columns)\n",
    "\n",
    "# Display the DataFrame\n",
    "df"
   ]
  },
  {
   "cell_type": "markdown",
   "id": "30f54953",
   "metadata": {},
   "source": [
    "Обчислюємо службові ймовірності"
   ]
  },
  {
   "cell_type": "code",
   "execution_count": 100,
   "id": "44a2d677",
   "metadata": {},
   "outputs": [
    {
     "name": "stdout",
     "output_type": "stream",
     "text": [
      "Probability of playing the game: 0.64\n",
      "Probability of not playing the game: 0.36\n",
      "---------------------------\n",
      "Probability of playing when it rains: 0.33\n",
      "Probability of playing when humidity is high: 0.33\n",
      "Probability of playing when wind is weak: 0.67\n",
      "---------------------------\n",
      "Probability of not playing when it rains: 0.40\n",
      "Probability of not playing when humidity is high: 0.80\n",
      "Probability of not playing when wind is weak: 0.40\n"
     ]
    }
   ],
   "source": [
    "# Calculate probabilities based on the DataFrame\n",
    "when_game_played = df['Play'] == 'Yes'\n",
    "when_it_rains = df['Outlook'] == 'Rain'\n",
    "when_its_sunny = df['Outlook'] == 'Sunny'\n",
    "when_high_humidity = df['Humidity'] == 'High'\n",
    "when_wind_weak = df['Wind'] == 'Weak'\n",
    "\n",
    "total_game = len(df[when_game_played])\n",
    "total_no_game = len(df[~when_game_played])\n",
    "p_game = total_game / len(df)\n",
    "p_no_game = total_no_game / len(df)\n",
    "p_rain_game = len(df[(when_it_rains & when_game_played)]) / total_game\n",
    "p_rain_no_game = len(df[(when_it_rains & ~when_game_played)]) / total_no_game\n",
    "p_high_humidity_game = len(df[when_high_humidity & when_game_played]) / total_game\n",
    "p_high_humidity_no_game = len(df[when_high_humidity & ~when_game_played]) / total_no_game\n",
    "p_wind_weak_game = len(df[when_wind_weak & when_game_played]) / total_game\n",
    "p_wind_weak_no_game = len(df[when_wind_weak & ~when_game_played]) / total_no_game\n",
    "\n",
    "print(f\"Probability of playing the game: {p_game:.2f}\")\n",
    "print(f\"Probability of not playing the game: {p_no_game:.2f}\")\n",
    "print(\"---------------------------\")\n",
    "print(f\"Probability of playing when it rains: {p_rain_game:.2f}\")\n",
    "print(f\"Probability of playing when humidity is high: {p_high_humidity_game:.2f}\")\n",
    "print(f\"Probability of playing when wind is weak: {p_wind_weak_game:.2f}\")\n",
    "print(\"---------------------------\")\n",
    "print(f\"Probability of not playing when it rains: {p_rain_no_game:.2f}\")\n",
    "print(f\"Probability of not playing when humidity is high: {p_high_humidity_no_game:.2f}\")\n",
    "print(f\"Probability of not playing when wind is weak: {p_wind_weak_no_game:.2f}\")\n"
   ]
  },
  {
   "cell_type": "markdown",
   "id": "7fa6abdd",
   "metadata": {},
   "source": [
    "Обчислюємо ймовірність за теоремою Байєса для випадку:\n",
    "- йде дощ\n",
    "- висока вологість\n",
    "- вітер слабкий"
   ]
  },
  {
   "cell_type": "code",
   "execution_count": 101,
   "id": "15ba6c78",
   "metadata": {},
   "outputs": [
    {
     "name": "stdout",
     "output_type": "stream",
     "text": [
      "Probability of playing the game when it rains, humidity is high, and wind is weak: 0.048\n",
      "Probability of not playing the game when it rains, humidity is high, and wind is weak: 0.046\n",
      "Probability of playing the game given the conditions: 0.510\n",
      "Probability of not playing the game given the conditions: 0.490\n"
     ]
    }
   ],
   "source": [
    "# Probability of playing the game when\n",
    "#    it rains,\n",
    "#    humidity is high,\n",
    "#    and wind is weak\n",
    "probility_game = p_rain_game * p_high_humidity_game * p_wind_weak_game * p_game\n",
    "probability_no_game = p_rain_no_game * p_high_humidity_no_game * p_wind_weak_no_game * p_no_game\n",
    "print(f\"Probability of playing the game when it rains, humidity is high, and wind is weak: {probility_game:.3f}\")\n",
    "print(f\"Probability of not playing the game when it rains, humidity is high, and wind is weak: {probability_no_game:.3f}\")\n",
    "\n",
    "p_yes = probility_game / (probility_game + probability_no_game)\n",
    "p_no = probability_no_game / (probility_game + probability_no_game)\n",
    "print(f\"Probability of playing the game given the conditions: {p_yes:.3f}\")\n",
    "print(f\"Probability of not playing the game given the conditions: {p_no:.3f}\")"
   ]
  },
  {
   "cell_type": "markdown",
   "id": "a0c5e451",
   "metadata": {},
   "source": [
    "P.S. Лабораторна робота містить помилку.\n",
    "\n",
    "Неправильна порахована кількість випадків для комбінації Outlook = Sunny && Game = Yes (Див. першу таблицю синього кольору - https://share.cleanshot.com/Fch2GVxN).\n",
    "Правильна відповідь (згідно табличних даних) - 2. В поясненні береться число 3. Загальна кількість  випадків у цій таблиці теж порахована невірно - https://share.cleanshot.com/sbbC0yv3.\n",
    "\n",
    "Це в подальшому призводить до неправильних розрахунків."
   ]
  },
  {
   "cell_type": "markdown",
   "id": "c4be0e0a",
   "metadata": {},
   "source": [
    "### Завдання 3. Розрахунок ймовірностей за допомогою теореми Байєса в Python"
   ]
  },
  {
   "cell_type": "markdown",
   "id": "2f9fc3a1",
   "metadata": {},
   "source": [
    "Варіант 8:\n",
    "- Outlook = Sunny\n",
    "- Humidity = High\n",
    "- Wind = Weak"
   ]
  },
  {
   "cell_type": "code",
   "execution_count": 102,
   "id": "649b2f1b",
   "metadata": {},
   "outputs": [
    {
     "name": "stdout",
     "output_type": "stream",
     "text": [
      "Probability of playing the game when it is sunny: 0.22\n",
      "Probability of not playing the game when it is sunny: 0.60\n",
      "---------------------------\n",
      "Probability of playing the game when it is sunny, humidity is high, and wind is weak: 0.032\n",
      "Probability of not playing the game when it is sunny, humidity is high, and wind is weak: 0.069\n",
      "Probability of playing the game given the conditions: 0.316\n",
      "Probability of not playing the game given the conditions: 0.684\n"
     ]
    }
   ],
   "source": [
    "p_sunny_game = len(df[(when_its_sunny & when_game_played)]) / total_game\n",
    "p_sunny_no_game = len(df[(when_its_sunny & ~when_game_played)]) / total_no_game\n",
    "print(f\"Probability of playing the game when it is sunny: {p_sunny_game:.2f}\")\n",
    "print(f\"Probability of not playing the game when it is sunny: {p_sunny_no_game:.2f}\")\n",
    "print(\"---------------------------\")\n",
    "\n",
    "# Probability of playing the game when\n",
    "#    it is sunny,\n",
    "#    humidity is high,\n",
    "#    and wind is weak\n",
    "probility_game = p_sunny_game * p_high_humidity_game * p_wind_weak_game * p_game\n",
    "probability_no_game = p_sunny_no_game * p_high_humidity_no_game * p_wind_weak_no_game * p_no_game\n",
    "print(f\"Probability of playing the game when it is sunny, humidity is high, and wind is weak: {probility_game:.3f}\")\n",
    "print(f\"Probability of not playing the game when it is sunny, humidity is high, and wind is weak: {probability_no_game:.3f}\")\n",
    "\n",
    "p_yes = probility_game / (probility_game + probability_no_game)\n",
    "p_no = probability_no_game / (probility_game + probability_no_game)\n",
    "print(f\"Probability of playing the game given the conditions: {p_yes:.3f}\")\n",
    "print(f\"Probability of not playing the game given the conditions: {p_no:.3f}\")"
   ]
  },
  {
   "cell_type": "markdown",
   "id": "194563c9",
   "metadata": {},
   "source": [
    "### Завдання 4. Застосуєте методи байєсівського аналізу до набору даних про ціни на квитки на іспанські високошвидкісні залізниці."
   ]
  },
  {
   "cell_type": "code",
   "execution_count": 103,
   "id": "95a273ee",
   "metadata": {},
   "outputs": [
    {
     "data": {
      "application/vnd.microsoft.datawrangler.viewer.v0+json": {
       "columns": [
        {
         "name": "index",
         "rawType": "int64",
         "type": "integer"
        },
        {
         "name": "Unnamed: 0",
         "rawType": "int64",
         "type": "integer"
        },
        {
         "name": "insert_date",
         "rawType": "object",
         "type": "string"
        },
        {
         "name": "origin",
         "rawType": "object",
         "type": "string"
        },
        {
         "name": "destination",
         "rawType": "object",
         "type": "string"
        },
        {
         "name": "start_date",
         "rawType": "object",
         "type": "string"
        },
        {
         "name": "end_date",
         "rawType": "object",
         "type": "string"
        },
        {
         "name": "train_type",
         "rawType": "object",
         "type": "string"
        },
        {
         "name": "price",
         "rawType": "float64",
         "type": "float"
        },
        {
         "name": "train_class",
         "rawType": "object",
         "type": "string"
        },
        {
         "name": "fare",
         "rawType": "object",
         "type": "string"
        }
       ],
       "ref": "2e71a587-40da-4c0b-b322-591296cbd2f4",
       "rows": [
        [
         "0",
         "0",
         "2019-04-22 08:00:25",
         "MADRID",
         "SEVILLA",
         "2019-04-28 08:30:00",
         "2019-04-28 11:14:00",
         "ALVIA",
         null,
         "Turista",
         "Flexible"
        ],
        [
         "1",
         "1",
         "2019-04-22 10:03:24",
         "MADRID",
         "VALENCIA",
         "2019-05-20 06:45:00",
         "2019-05-20 08:38:00",
         "AVE",
         "21.95",
         "Turista",
         "Promo"
        ],
        [
         "2",
         "2",
         "2019-04-25 19:19:46",
         "MADRID",
         "SEVILLA",
         "2019-05-29 06:20:00",
         "2019-05-29 09:16:00",
         "AV City",
         "38.55",
         "Turista",
         "Promo"
        ],
        [
         "3",
         "3",
         "2019-04-24 06:21:57",
         "SEVILLA",
         "MADRID",
         "2019-05-03 08:35:00",
         "2019-05-03 15:26:00",
         "LD-MD",
         "34.35",
         "Turista con enlace",
         "Promo +"
        ],
        [
         "4",
         "4",
         "2019-04-19 21:13:55",
         "VALENCIA",
         "MADRID",
         "2019-05-10 09:40:00",
         "2019-05-10 11:20:00",
         "AVE",
         "45.3",
         "Turista",
         "Promo"
        ]
       ],
       "shape": {
        "columns": 10,
        "rows": 5
       }
      },
      "text/html": [
       "<div>\n",
       "<style scoped>\n",
       "    .dataframe tbody tr th:only-of-type {\n",
       "        vertical-align: middle;\n",
       "    }\n",
       "\n",
       "    .dataframe tbody tr th {\n",
       "        vertical-align: top;\n",
       "    }\n",
       "\n",
       "    .dataframe thead th {\n",
       "        text-align: right;\n",
       "    }\n",
       "</style>\n",
       "<table border=\"1\" class=\"dataframe\">\n",
       "  <thead>\n",
       "    <tr style=\"text-align: right;\">\n",
       "      <th></th>\n",
       "      <th>Unnamed: 0</th>\n",
       "      <th>insert_date</th>\n",
       "      <th>origin</th>\n",
       "      <th>destination</th>\n",
       "      <th>start_date</th>\n",
       "      <th>end_date</th>\n",
       "      <th>train_type</th>\n",
       "      <th>price</th>\n",
       "      <th>train_class</th>\n",
       "      <th>fare</th>\n",
       "    </tr>\n",
       "  </thead>\n",
       "  <tbody>\n",
       "    <tr>\n",
       "      <th>0</th>\n",
       "      <td>0</td>\n",
       "      <td>2019-04-22 08:00:25</td>\n",
       "      <td>MADRID</td>\n",
       "      <td>SEVILLA</td>\n",
       "      <td>2019-04-28 08:30:00</td>\n",
       "      <td>2019-04-28 11:14:00</td>\n",
       "      <td>ALVIA</td>\n",
       "      <td>NaN</td>\n",
       "      <td>Turista</td>\n",
       "      <td>Flexible</td>\n",
       "    </tr>\n",
       "    <tr>\n",
       "      <th>1</th>\n",
       "      <td>1</td>\n",
       "      <td>2019-04-22 10:03:24</td>\n",
       "      <td>MADRID</td>\n",
       "      <td>VALENCIA</td>\n",
       "      <td>2019-05-20 06:45:00</td>\n",
       "      <td>2019-05-20 08:38:00</td>\n",
       "      <td>AVE</td>\n",
       "      <td>21.95</td>\n",
       "      <td>Turista</td>\n",
       "      <td>Promo</td>\n",
       "    </tr>\n",
       "    <tr>\n",
       "      <th>2</th>\n",
       "      <td>2</td>\n",
       "      <td>2019-04-25 19:19:46</td>\n",
       "      <td>MADRID</td>\n",
       "      <td>SEVILLA</td>\n",
       "      <td>2019-05-29 06:20:00</td>\n",
       "      <td>2019-05-29 09:16:00</td>\n",
       "      <td>AV City</td>\n",
       "      <td>38.55</td>\n",
       "      <td>Turista</td>\n",
       "      <td>Promo</td>\n",
       "    </tr>\n",
       "    <tr>\n",
       "      <th>3</th>\n",
       "      <td>3</td>\n",
       "      <td>2019-04-24 06:21:57</td>\n",
       "      <td>SEVILLA</td>\n",
       "      <td>MADRID</td>\n",
       "      <td>2019-05-03 08:35:00</td>\n",
       "      <td>2019-05-03 15:26:00</td>\n",
       "      <td>LD-MD</td>\n",
       "      <td>34.35</td>\n",
       "      <td>Turista con enlace</td>\n",
       "      <td>Promo +</td>\n",
       "    </tr>\n",
       "    <tr>\n",
       "      <th>4</th>\n",
       "      <td>4</td>\n",
       "      <td>2019-04-19 21:13:55</td>\n",
       "      <td>VALENCIA</td>\n",
       "      <td>MADRID</td>\n",
       "      <td>2019-05-10 09:40:00</td>\n",
       "      <td>2019-05-10 11:20:00</td>\n",
       "      <td>AVE</td>\n",
       "      <td>45.30</td>\n",
       "      <td>Turista</td>\n",
       "      <td>Promo</td>\n",
       "    </tr>\n",
       "  </tbody>\n",
       "</table>\n",
       "</div>"
      ],
      "text/plain": [
       "   Unnamed: 0          insert_date    origin destination           start_date  \\\n",
       "0           0  2019-04-22 08:00:25    MADRID     SEVILLA  2019-04-28 08:30:00   \n",
       "1           1  2019-04-22 10:03:24    MADRID    VALENCIA  2019-05-20 06:45:00   \n",
       "2           2  2019-04-25 19:19:46    MADRID     SEVILLA  2019-05-29 06:20:00   \n",
       "3           3  2019-04-24 06:21:57   SEVILLA      MADRID  2019-05-03 08:35:00   \n",
       "4           4  2019-04-19 21:13:55  VALENCIA      MADRID  2019-05-10 09:40:00   \n",
       "\n",
       "              end_date train_type  price         train_class      fare  \n",
       "0  2019-04-28 11:14:00      ALVIA    NaN             Turista  Flexible  \n",
       "1  2019-05-20 08:38:00        AVE  21.95             Turista     Promo  \n",
       "2  2019-05-29 09:16:00    AV City  38.55             Turista     Promo  \n",
       "3  2019-05-03 15:26:00      LD-MD  34.35  Turista con enlace   Promo +  \n",
       "4  2019-05-10 11:20:00        AVE  45.30             Turista     Promo  "
      ]
     },
     "execution_count": 103,
     "metadata": {},
     "output_type": "execute_result"
    }
   ],
   "source": [
    "# Завантаження даних\n",
    "df = pd.read_csv('./renfe_small.csv')\n",
    "df.head()"
   ]
  },
  {
   "cell_type": "markdown",
   "id": "c6449a5a",
   "metadata": {},
   "source": [
    "Проводимо аналіз цін на квитки методом наївного Байєсу.\n",
    "Для цього введемо нову категорію - PriceCategory, яка рівномірно розоподіляє датасет на дешеві, середні і дороговартісні поїздки.\n",
    "Використаємо тип класифікатора - Гауса, оскільки вважаємо, що ціна має нормальний розподіл."
   ]
  },
  {
   "cell_type": "code",
   "execution_count": 104,
   "id": "96507613",
   "metadata": {},
   "outputs": [
    {
     "name": "stdout",
     "output_type": "stream",
     "text": [
      "Accuracy: 0.6423855633802817\n",
      "\n",
      "Classification Report:\n",
      "               precision    recall  f1-score   support\n",
      "\n",
      "        High       0.74      0.96      0.83      1454\n",
      "         Low       0.75      0.41      0.53      1506\n",
      "      Medium       0.50      0.57      0.53      1584\n",
      "\n",
      "    accuracy                           0.64      4544\n",
      "   macro avg       0.66      0.65      0.63      4544\n",
      "weighted avg       0.66      0.64      0.63      4544\n",
      "\n"
     ]
    }
   ],
   "source": [
    "from sklearn.preprocessing import LabelEncoder\n",
    "from sklearn.model_selection import train_test_split\n",
    "from sklearn.naive_bayes import GaussianNB\n",
    "from sklearn.metrics import classification_report, accuracy_score\n",
    "\n",
    "# Очищення даних від порожніх значень ціни, класу потяга\n",
    "df = df.dropna(subset=['price', 'train_class'])\n",
    "\n",
    "# Розбиваємо ціну 'price' на 3 категорії\n",
    "df['PriceCategory'] = pd.qcut(df['price'], q=3, labels=['Low', 'Medium', 'High'])\n",
    "\n",
    "# Encode categorical features\n",
    "df_encoded = df.copy()\n",
    "for col in df_encoded.select_dtypes(include='object').columns:\n",
    "    df_encoded[col] = LabelEncoder().fit_transform(df_encoded[col])\n",
    "\n",
    "# Separate features and target\n",
    "X = df_encoded.drop(columns=['price', 'PriceCategory'])  # drop raw price\n",
    "y = df_encoded['PriceCategory']\n",
    "\n",
    "\n",
    "# Train-test split\n",
    "X_train, X_test, y_train, y_test = train_test_split(X, y, test_size=0.2, random_state=13)\n",
    "\n",
    "# Train model\n",
    "model = GaussianNB()\n",
    "model.fit(X_train, y_train)\n",
    "\n",
    "# Predict\n",
    "y_pred = model.predict(X_test)\n",
    "\n",
    "# Evaluate\n",
    "print(\"Accuracy:\", accuracy_score(y_test, y_pred))\n",
    "print(\"\\nClassification Report:\\n\", classification_report(y_test, y_pred))\n"
   ]
  }
 ],
 "metadata": {
  "kernelspec": {
   "display_name": "base",
   "language": "python",
   "name": "python3"
  },
  "language_info": {
   "codemirror_mode": {
    "name": "ipython",
    "version": 3
   },
   "file_extension": ".py",
   "mimetype": "text/x-python",
   "name": "python",
   "nbconvert_exporter": "python",
   "pygments_lexer": "ipython3",
   "version": "3.12.7"
  }
 },
 "nbformat": 4,
 "nbformat_minor": 5
}
