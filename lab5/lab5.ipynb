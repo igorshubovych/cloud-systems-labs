{
 "cells": [
  {
   "cell_type": "markdown",
   "id": "afe84402",
   "metadata": {},
   "source": [
    "# Lab 5\n",
    "\n",
    "## Дослідження методів ансамблевого навчання"
   ]
  },
  {
   "cell_type": "markdown",
   "id": "7f287375",
   "metadata": {},
   "source": [
    "### Завдання 2.1. Створення класифікаторів на основі випадкових та гранично випадкових лісів"
   ]
  },
  {
   "cell_type": "code",
   "execution_count": null,
   "id": "d1790dba",
   "metadata": {},
   "outputs": [],
   "source": [
    "import argparse\n",
    "import numpy as np\n",
    "import matplotlib.pyplot as plt\n",
    "from sklearn.metrics import classification_report\n",
    "from sklearn import cross_validation\n",
    "from sklearn.ensemble import RandomForestClassifier, ExtraTreesClassifier\n",
    "from sklearn import cross_validation\n",
    "from sklearn.metrics import classification_report\n",
    "from utilities import visualize_classifier"
   ]
  }
 ],
 "metadata": {
  "language_info": {
   "name": "python"
  }
 },
 "nbformat": 4,
 "nbformat_minor": 5
}
