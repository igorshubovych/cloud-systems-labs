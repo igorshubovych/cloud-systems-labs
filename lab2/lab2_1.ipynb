{
 "cells": [
  {
   "cell_type": "markdown",
   "id": "e02f318e",
   "metadata": {},
   "source": [
    "# Лабораторна робота 2\n",
    "\n",
    "## Порівняння методів класифікації даних"
   ]
  },
  {
   "cell_type": "markdown",
   "id": "3860701f",
   "metadata": {},
   "source": [
    "### Завдання 2.1. Класифікація за допомогою машин опорних векторів (SVM)"
   ]
  },
  {
   "cell_type": "markdown",
   "id": "5fd37b3a",
   "metadata": {},
   "source": [
    "Завантажуємо необхідні бібліотеки, класи та функції"
   ]
  },
  {
   "cell_type": "code",
   "execution_count": 8,
   "id": "e9630058",
   "metadata": {},
   "outputs": [],
   "source": [
    "import pandas as pd\n",
    "import numpy as np\n",
    "from sklearn.model_selection import train_test_split\n",
    "from sklearn.preprocessing import LabelEncoder\n",
    "from sklearn.svm import LinearSVC\n",
    "from sklearn.metrics import accuracy_score"
   ]
  },
  {
   "cell_type": "markdown",
   "id": "e776b690",
   "metadata": {},
   "source": [
    "Читаємо дані з файлу та очищаємо їх"
   ]
  },
  {
   "cell_type": "code",
   "execution_count": 9,
   "id": "4b6fdd75",
   "metadata": {},
   "outputs": [
    {
     "data": {
      "application/vnd.microsoft.datawrangler.viewer.v0+json": {
       "columns": [
        {
         "name": "index",
         "rawType": "object",
         "type": "string"
        },
        {
         "name": "0",
         "rawType": "float64",
         "type": "float"
        },
        {
         "name": "2",
         "rawType": "float64",
         "type": "float"
        },
        {
         "name": "4",
         "rawType": "float64",
         "type": "float"
        },
        {
         "name": "10",
         "rawType": "float64",
         "type": "float"
        },
        {
         "name": "11",
         "rawType": "float64",
         "type": "float"
        },
        {
         "name": "12",
         "rawType": "float64",
         "type": "float"
        }
       ],
       "ref": "8a63a393-9fb2-4d3b-8a92-09df782738ec",
       "rows": [
        [
         "count",
         "32561.0",
         "32561.0",
         "32561.0",
         "32561.0",
         "32561.0",
         "32561.0"
        ],
        [
         "mean",
         "38.58164675532078",
         "189778.36651208502",
         "10.0806793403151",
         "1077.6488437087312",
         "87.303829734959",
         "40.437455852092995"
        ],
        [
         "std",
         "13.640432553581341",
         "105549.97769702224",
         "2.5727203320673877",
         "7385.292084840338",
         "402.9602186489997",
         "12.347428681731843"
        ],
        [
         "min",
         "17.0",
         "12285.0",
         "1.0",
         "0.0",
         "0.0",
         "1.0"
        ],
        [
         "25%",
         "28.0",
         "117827.0",
         "9.0",
         "0.0",
         "0.0",
         "40.0"
        ],
        [
         "50%",
         "37.0",
         "178356.0",
         "10.0",
         "0.0",
         "0.0",
         "40.0"
        ],
        [
         "75%",
         "48.0",
         "237051.0",
         "12.0",
         "0.0",
         "0.0",
         "45.0"
        ],
        [
         "max",
         "90.0",
         "1484705.0",
         "16.0",
         "99999.0",
         "4356.0",
         "99.0"
        ]
       ],
       "shape": {
        "columns": 6,
        "rows": 8
       }
      },
      "text/html": [
       "<div>\n",
       "<style scoped>\n",
       "    .dataframe tbody tr th:only-of-type {\n",
       "        vertical-align: middle;\n",
       "    }\n",
       "\n",
       "    .dataframe tbody tr th {\n",
       "        vertical-align: top;\n",
       "    }\n",
       "\n",
       "    .dataframe thead th {\n",
       "        text-align: right;\n",
       "    }\n",
       "</style>\n",
       "<table border=\"1\" class=\"dataframe\">\n",
       "  <thead>\n",
       "    <tr style=\"text-align: right;\">\n",
       "      <th></th>\n",
       "      <th>0</th>\n",
       "      <th>2</th>\n",
       "      <th>4</th>\n",
       "      <th>10</th>\n",
       "      <th>11</th>\n",
       "      <th>12</th>\n",
       "    </tr>\n",
       "  </thead>\n",
       "  <tbody>\n",
       "    <tr>\n",
       "      <th>count</th>\n",
       "      <td>32561.000000</td>\n",
       "      <td>3.256100e+04</td>\n",
       "      <td>32561.000000</td>\n",
       "      <td>32561.000000</td>\n",
       "      <td>32561.000000</td>\n",
       "      <td>32561.000000</td>\n",
       "    </tr>\n",
       "    <tr>\n",
       "      <th>mean</th>\n",
       "      <td>38.581647</td>\n",
       "      <td>1.897784e+05</td>\n",
       "      <td>10.080679</td>\n",
       "      <td>1077.648844</td>\n",
       "      <td>87.303830</td>\n",
       "      <td>40.437456</td>\n",
       "    </tr>\n",
       "    <tr>\n",
       "      <th>std</th>\n",
       "      <td>13.640433</td>\n",
       "      <td>1.055500e+05</td>\n",
       "      <td>2.572720</td>\n",
       "      <td>7385.292085</td>\n",
       "      <td>402.960219</td>\n",
       "      <td>12.347429</td>\n",
       "    </tr>\n",
       "    <tr>\n",
       "      <th>min</th>\n",
       "      <td>17.000000</td>\n",
       "      <td>1.228500e+04</td>\n",
       "      <td>1.000000</td>\n",
       "      <td>0.000000</td>\n",
       "      <td>0.000000</td>\n",
       "      <td>1.000000</td>\n",
       "    </tr>\n",
       "    <tr>\n",
       "      <th>25%</th>\n",
       "      <td>28.000000</td>\n",
       "      <td>1.178270e+05</td>\n",
       "      <td>9.000000</td>\n",
       "      <td>0.000000</td>\n",
       "      <td>0.000000</td>\n",
       "      <td>40.000000</td>\n",
       "    </tr>\n",
       "    <tr>\n",
       "      <th>50%</th>\n",
       "      <td>37.000000</td>\n",
       "      <td>1.783560e+05</td>\n",
       "      <td>10.000000</td>\n",
       "      <td>0.000000</td>\n",
       "      <td>0.000000</td>\n",
       "      <td>40.000000</td>\n",
       "    </tr>\n",
       "    <tr>\n",
       "      <th>75%</th>\n",
       "      <td>48.000000</td>\n",
       "      <td>2.370510e+05</td>\n",
       "      <td>12.000000</td>\n",
       "      <td>0.000000</td>\n",
       "      <td>0.000000</td>\n",
       "      <td>45.000000</td>\n",
       "    </tr>\n",
       "    <tr>\n",
       "      <th>max</th>\n",
       "      <td>90.000000</td>\n",
       "      <td>1.484705e+06</td>\n",
       "      <td>16.000000</td>\n",
       "      <td>99999.000000</td>\n",
       "      <td>4356.000000</td>\n",
       "      <td>99.000000</td>\n",
       "    </tr>\n",
       "  </tbody>\n",
       "</table>\n",
       "</div>"
      ],
      "text/plain": [
       "                 0             2             4             10            11  \\\n",
       "count  32561.000000  3.256100e+04  32561.000000  32561.000000  32561.000000   \n",
       "mean      38.581647  1.897784e+05     10.080679   1077.648844     87.303830   \n",
       "std       13.640433  1.055500e+05      2.572720   7385.292085    402.960219   \n",
       "min       17.000000  1.228500e+04      1.000000      0.000000      0.000000   \n",
       "25%       28.000000  1.178270e+05      9.000000      0.000000      0.000000   \n",
       "50%       37.000000  1.783560e+05     10.000000      0.000000      0.000000   \n",
       "75%       48.000000  2.370510e+05     12.000000      0.000000      0.000000   \n",
       "max       90.000000  1.484705e+06     16.000000  99999.000000   4356.000000   \n",
       "\n",
       "                 12  \n",
       "count  32561.000000  \n",
       "mean      40.437456  \n",
       "std       12.347429  \n",
       "min        1.000000  \n",
       "25%       40.000000  \n",
       "50%       40.000000  \n",
       "75%       45.000000  \n",
       "max       99.000000  "
      ]
     },
     "execution_count": 9,
     "metadata": {},
     "output_type": "execute_result"
    }
   ],
   "source": [
    "\n",
    "# Читаємо CSV файл\n",
    "df = pd.read_csv('income_data.csv', header=None, skipinitialspace=True)\n",
    "df.describe()"
   ]
  },
  {
   "cell_type": "code",
   "execution_count": 10,
   "id": "5b334246",
   "metadata": {},
   "outputs": [
    {
     "name": "stdout",
     "output_type": "stream",
     "text": [
      "Кількість рядків з класом <=50K: 32561\n",
      "Кількість рядків з класом >50K: 32561\n"
     ]
    }
   ],
   "source": [
    "count_class1 = len(df[df[:-1] == \"<=50K\"])\n",
    "count_class2 = len(df[df[:-1] == \">50K\"])\n",
    "print(f\"Кількість рядків з класом <=50K: {count_class1}\")\n",
    "print(f\"Кількість рядків з класом >50K: {count_class2}\")"
   ]
  },
  {
   "cell_type": "markdown",
   "id": "e7466d48",
   "metadata": {},
   "source": [
    "Готуємо дані для аналізу"
   ]
  },
  {
   "cell_type": "code",
   "execution_count": 11,
   "id": "d4bbdc58",
   "metadata": {},
   "outputs": [],
   "source": [
    "\n",
    "# Кодуємо категоріальні ознаки (стовпці)\n",
    "df_encoded = df.copy()\n",
    "label_encoders = {}\n",
    "\n",
    "for col in df_encoded.columns:\n",
    "    if df_encoded[col].dtype == 'object' or df_encoded[col].dtype.name == 'category':\n",
    "        le = LabelEncoder()\n",
    "        df_encoded[col] = le.fit_transform(df_encoded[col].astype(str))\n",
    "        label_encoders[col] = le\n",
    "\n",
    "# Розділяємо дані на ознаки та мітки\n",
    "X = df_encoded.iloc[:, :-1]\n",
    "y = df_encoded.iloc[:, -1] # Останній стовпець - це мітка класу"
   ]
  },
  {
   "cell_type": "markdown",
   "id": "a879a7eb",
   "metadata": {},
   "source": [
    "Розбиваємо набір дани на тренувальний і перевірочний набори"
   ]
  },
  {
   "cell_type": "code",
   "execution_count": 12,
   "id": "5f369425",
   "metadata": {},
   "outputs": [],
   "source": [
    "# Розділяємо дані на тренувальний та тестовий набори\n",
    "X_train, X_test, y_train, y_test = train_test_split(X, y, test_size=0.2, random_state=42)"
   ]
  },
  {
   "cell_type": "markdown",
   "id": "5086e644",
   "metadata": {},
   "source": [
    "Тренуємо модель SVM (Support Vector Machines) та обчислюємо її точність"
   ]
  },
  {
   "cell_type": "code",
   "execution_count": 13,
   "id": "f50c4085",
   "metadata": {},
   "outputs": [
    {
     "name": "stdout",
     "output_type": "stream",
     "text": [
      "Model accuracy: 0.81\n"
     ]
    }
   ],
   "source": [
    "# Тренуємо модель LinearSVC\n",
    "model = LinearSVC(max_iter=10000)\n",
    "model.fit(X_train, y_train)\n",
    "\n",
    "# Оцінюємо точність моделі за допомогою тестового набору\n",
    "y_pred = model.predict(X_test)\n",
    "accuracy = accuracy_score(y_test, y_pred)\n",
    "print(f\"Model accuracy: {accuracy:.2f}\")"
   ]
  },
  {
   "cell_type": "markdown",
   "id": "37659341",
   "metadata": {},
   "source": [
    "Передбачаємо результат для обраних вхідних даних"
   ]
  },
  {
   "cell_type": "code",
   "execution_count": 14,
   "id": "9fca9882",
   "metadata": {},
   "outputs": [
    {
     "name": "stdout",
     "output_type": "stream",
     "text": [
      "Predicted class for input row: <=50K\n"
     ]
    }
   ],
   "source": [
    "# Сирі вхідні дані (з прикладу)\n",
    "input_data = ['37', 'Private', '215646', 'HS-grad', '9', 'Never-married',\n",
    "              'Handlers-cleaners', 'Not-in-family', 'White', 'Male', '0', '0', '40', 'United-States']\n",
    "\n",
    "# Перетворюємо вхідні дані в DataFrame\n",
    "input_df = pd.DataFrame([input_data], columns=X.columns)\n",
    "\n",
    "# Перетворюємо категоріальні ознаки вхідних даних\n",
    "for col in input_df.columns:\n",
    "    if col in label_encoders:\n",
    "        input_df[col] = label_encoders[col].transform(input_df[col].astype(str))\n",
    "\n",
    "# Передбачаємо клас для вхідних даних\n",
    "prediction = model.predict(input_df)\n",
    "predicted_class = label_encoders[df.columns[-1]].inverse_transform(prediction)\n",
    "\n",
    "print(\"Predicted class for input row:\", predicted_class[0])"
   ]
  }
 ],
 "metadata": {
  "kernelspec": {
   "display_name": "ml",
   "language": "python",
   "name": "python3"
  },
  "language_info": {
   "codemirror_mode": {
    "name": "ipython",
    "version": 3
   },
   "file_extension": ".py",
   "mimetype": "text/x-python",
   "name": "python",
   "nbconvert_exporter": "python",
   "pygments_lexer": "ipython3",
   "version": "3.13.5"
  }
 },
 "nbformat": 4,
 "nbformat_minor": 5
}
