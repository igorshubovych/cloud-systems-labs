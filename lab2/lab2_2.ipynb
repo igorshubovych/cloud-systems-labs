{
 "cells": [
  {
   "cell_type": "markdown",
   "id": "e02f318e",
   "metadata": {},
   "source": [
    "# Лабораторна робота 2\n",
    "\n",
    "## Порівняння методів класифікації даних"
   ]
  },
  {
   "cell_type": "markdown",
   "id": "3860701f",
   "metadata": {},
   "source": [
    "### Завдання 2.2. Порівняння якості класифікаторів SVM з нелінійними ядрами"
   ]
  },
  {
   "cell_type": "markdown",
   "id": "5fd37b3a",
   "metadata": {},
   "source": [
    "Завантажуємо необхідні бібліотеки, класи та функції"
   ]
  },
  {
   "cell_type": "code",
   "execution_count": 7,
   "id": "e9630058",
   "metadata": {},
   "outputs": [],
   "source": [
    "import pandas as pd\n",
    "import numpy as np\n",
    "import time\n",
    "from tabulate import tabulate\n",
    "from sklearn.model_selection import train_test_split\n",
    "from sklearn.preprocessing import LabelEncoder\n",
    "from sklearn.svm import LinearSVC, SVC\n",
    "from sklearn.metrics import accuracy_score, classification_report"
   ]
  },
  {
   "cell_type": "markdown",
   "id": "e776b690",
   "metadata": {},
   "source": [
    "Читаємо дані з файлу та очищаємо їх"
   ]
  },
  {
   "cell_type": "code",
   "execution_count": 8,
   "id": "4b6fdd75",
   "metadata": {},
   "outputs": [
    {
     "data": {
      "application/vnd.microsoft.datawrangler.viewer.v0+json": {
       "columns": [
        {
         "name": "index",
         "rawType": "object",
         "type": "string"
        },
        {
         "name": "0",
         "rawType": "float64",
         "type": "float"
        },
        {
         "name": "2",
         "rawType": "float64",
         "type": "float"
        },
        {
         "name": "4",
         "rawType": "float64",
         "type": "float"
        },
        {
         "name": "10",
         "rawType": "float64",
         "type": "float"
        },
        {
         "name": "11",
         "rawType": "float64",
         "type": "float"
        },
        {
         "name": "12",
         "rawType": "float64",
         "type": "float"
        }
       ],
       "ref": "fb85c788-334d-46cd-821f-03d9553aa22e",
       "rows": [
        [
         "count",
         "32561.0",
         "32561.0",
         "32561.0",
         "32561.0",
         "32561.0",
         "32561.0"
        ],
        [
         "mean",
         "38.58164675532078",
         "189778.36651208502",
         "10.0806793403151",
         "1077.6488437087312",
         "87.303829734959",
         "40.437455852092995"
        ],
        [
         "std",
         "13.640432553581146",
         "105549.97769702233",
         "2.5727203320673406",
         "7385.2920848393",
         "402.960218649059",
         "12.34742868173081"
        ],
        [
         "min",
         "17.0",
         "12285.0",
         "1.0",
         "0.0",
         "0.0",
         "1.0"
        ],
        [
         "25%",
         "28.0",
         "117827.0",
         "9.0",
         "0.0",
         "0.0",
         "40.0"
        ],
        [
         "50%",
         "37.0",
         "178356.0",
         "10.0",
         "0.0",
         "0.0",
         "40.0"
        ],
        [
         "75%",
         "48.0",
         "237051.0",
         "12.0",
         "0.0",
         "0.0",
         "45.0"
        ],
        [
         "max",
         "90.0",
         "1484705.0",
         "16.0",
         "99999.0",
         "4356.0",
         "99.0"
        ]
       ],
       "shape": {
        "columns": 6,
        "rows": 8
       }
      },
      "text/html": [
       "<div>\n",
       "<style scoped>\n",
       "    .dataframe tbody tr th:only-of-type {\n",
       "        vertical-align: middle;\n",
       "    }\n",
       "\n",
       "    .dataframe tbody tr th {\n",
       "        vertical-align: top;\n",
       "    }\n",
       "\n",
       "    .dataframe thead th {\n",
       "        text-align: right;\n",
       "    }\n",
       "</style>\n",
       "<table border=\"1\" class=\"dataframe\">\n",
       "  <thead>\n",
       "    <tr style=\"text-align: right;\">\n",
       "      <th></th>\n",
       "      <th>0</th>\n",
       "      <th>2</th>\n",
       "      <th>4</th>\n",
       "      <th>10</th>\n",
       "      <th>11</th>\n",
       "      <th>12</th>\n",
       "    </tr>\n",
       "  </thead>\n",
       "  <tbody>\n",
       "    <tr>\n",
       "      <th>count</th>\n",
       "      <td>32561.000000</td>\n",
       "      <td>3.256100e+04</td>\n",
       "      <td>32561.000000</td>\n",
       "      <td>32561.000000</td>\n",
       "      <td>32561.000000</td>\n",
       "      <td>32561.000000</td>\n",
       "    </tr>\n",
       "    <tr>\n",
       "      <th>mean</th>\n",
       "      <td>38.581647</td>\n",
       "      <td>1.897784e+05</td>\n",
       "      <td>10.080679</td>\n",
       "      <td>1077.648844</td>\n",
       "      <td>87.303830</td>\n",
       "      <td>40.437456</td>\n",
       "    </tr>\n",
       "    <tr>\n",
       "      <th>std</th>\n",
       "      <td>13.640433</td>\n",
       "      <td>1.055500e+05</td>\n",
       "      <td>2.572720</td>\n",
       "      <td>7385.292085</td>\n",
       "      <td>402.960219</td>\n",
       "      <td>12.347429</td>\n",
       "    </tr>\n",
       "    <tr>\n",
       "      <th>min</th>\n",
       "      <td>17.000000</td>\n",
       "      <td>1.228500e+04</td>\n",
       "      <td>1.000000</td>\n",
       "      <td>0.000000</td>\n",
       "      <td>0.000000</td>\n",
       "      <td>1.000000</td>\n",
       "    </tr>\n",
       "    <tr>\n",
       "      <th>25%</th>\n",
       "      <td>28.000000</td>\n",
       "      <td>1.178270e+05</td>\n",
       "      <td>9.000000</td>\n",
       "      <td>0.000000</td>\n",
       "      <td>0.000000</td>\n",
       "      <td>40.000000</td>\n",
       "    </tr>\n",
       "    <tr>\n",
       "      <th>50%</th>\n",
       "      <td>37.000000</td>\n",
       "      <td>1.783560e+05</td>\n",
       "      <td>10.000000</td>\n",
       "      <td>0.000000</td>\n",
       "      <td>0.000000</td>\n",
       "      <td>40.000000</td>\n",
       "    </tr>\n",
       "    <tr>\n",
       "      <th>75%</th>\n",
       "      <td>48.000000</td>\n",
       "      <td>2.370510e+05</td>\n",
       "      <td>12.000000</td>\n",
       "      <td>0.000000</td>\n",
       "      <td>0.000000</td>\n",
       "      <td>45.000000</td>\n",
       "    </tr>\n",
       "    <tr>\n",
       "      <th>max</th>\n",
       "      <td>90.000000</td>\n",
       "      <td>1.484705e+06</td>\n",
       "      <td>16.000000</td>\n",
       "      <td>99999.000000</td>\n",
       "      <td>4356.000000</td>\n",
       "      <td>99.000000</td>\n",
       "    </tr>\n",
       "  </tbody>\n",
       "</table>\n",
       "</div>"
      ],
      "text/plain": [
       "                 0             2             4             10            11  \\\n",
       "count  32561.000000  3.256100e+04  32561.000000  32561.000000  32561.000000   \n",
       "mean      38.581647  1.897784e+05     10.080679   1077.648844     87.303830   \n",
       "std       13.640433  1.055500e+05      2.572720   7385.292085    402.960219   \n",
       "min       17.000000  1.228500e+04      1.000000      0.000000      0.000000   \n",
       "25%       28.000000  1.178270e+05      9.000000      0.000000      0.000000   \n",
       "50%       37.000000  1.783560e+05     10.000000      0.000000      0.000000   \n",
       "75%       48.000000  2.370510e+05     12.000000      0.000000      0.000000   \n",
       "max       90.000000  1.484705e+06     16.000000  99999.000000   4356.000000   \n",
       "\n",
       "                 12  \n",
       "count  32561.000000  \n",
       "mean      40.437456  \n",
       "std       12.347429  \n",
       "min        1.000000  \n",
       "25%       40.000000  \n",
       "50%       40.000000  \n",
       "75%       45.000000  \n",
       "max       99.000000  "
      ]
     },
     "execution_count": 8,
     "metadata": {},
     "output_type": "execute_result"
    }
   ],
   "source": [
    "# Читаємо дані з CSV файлу\n",
    "df = pd.read_csv('income_data.csv', header=None, skipinitialspace=True)\n",
    "df.describe()"
   ]
  },
  {
   "cell_type": "code",
   "execution_count": 9,
   "id": "5b334246",
   "metadata": {},
   "outputs": [
    {
     "name": "stdout",
     "output_type": "stream",
     "text": [
      "Кількість рядків з класом <=50K: 32561\n",
      "Кількість рядків з класом >50K: 32561\n"
     ]
    }
   ],
   "source": [
    "count_class1 = len(df[df[:-1] == \"<=50K\"])\n",
    "count_class2 = len(df[df[:-1] == \">50K\"])\n",
    "print(f\"Кількість рядків з класом <=50K: {count_class1}\")\n",
    "print(f\"Кількість рядків з класом >50K: {count_class2}\")"
   ]
  },
  {
   "cell_type": "markdown",
   "id": "e7466d48",
   "metadata": {},
   "source": [
    "Готуємо дані для аналізу"
   ]
  },
  {
   "cell_type": "code",
   "execution_count": 10,
   "id": "d4bbdc58",
   "metadata": {},
   "outputs": [],
   "source": [
    "# Кодуємо категоріальні ознаки (стовпці)\n",
    "df_encoded = df.copy()\n",
    "label_encoders = {}\n",
    "\n",
    "for col in df_encoded.columns:\n",
    "    if df_encoded[col].dtype == 'object' or df_encoded[col].dtype.name == 'category':\n",
    "        le = LabelEncoder()\n",
    "        df_encoded[col] = le.fit_transform(df_encoded[col].astype(str))\n",
    "        label_encoders[col] = le\n",
    "\n",
    "# Розділяємо дані на ознаки та мітки\n",
    "X = df_encoded.iloc[:, :-1]\n",
    "y = df_encoded.iloc[:, -1] # Останній стовпець - це мітка класу"
   ]
  },
  {
   "cell_type": "markdown",
   "id": "a879a7eb",
   "metadata": {},
   "source": [
    "Розбиваємо набір дани на тренувальний і перевірочний набори"
   ]
  },
  {
   "cell_type": "code",
   "execution_count": 11,
   "id": "5f369425",
   "metadata": {},
   "outputs": [],
   "source": [
    "X_train, X_test, y_train, y_test = train_test_split(X, y, test_size=0.2, random_state=42)"
   ]
  },
  {
   "cell_type": "markdown",
   "id": "5086e644",
   "metadata": {},
   "source": [
    "Тренуємо різні моделі SVM, обчислюємо їх точність, та заміряємо час"
   ]
  },
  {
   "cell_type": "code",
   "execution_count": null,
   "id": "08bdde27",
   "metadata": {},
   "outputs": [],
   "source": [
    "models = {\n",
    "    'LinearSVC': LinearSVC(max_iter=10000),\n",
    "    'SVC (poly kernel)': SVC(kernel='poly'),\n",
    "    'SVC (rbf kernel)': SVC(kernel='rbf'), # default kernel (Gaussian RBF)\n",
    "    'SVC (sigmoid kernel)': SVC(kernel='sigmoid')\n",
    "}\n"
   ]
  },
  {
   "cell_type": "code",
   "execution_count": 13,
   "id": "5a0c1cef",
   "metadata": {},
   "outputs": [],
   "source": [
    "# Навчаємо кожну модель та вимірюємо час тренування\n",
    "model_results = {}\n",
    "for model_name, model in models.items():\n",
    "    # Train the model and measure time\n",
    "    start_train = time.time()\n",
    "    model.fit(X_train, y_train)\n",
    "    end_train = time.time()\n",
    "\n",
    "    model_results[model_name] = {\"train_time\": end_train - start_train}\n"
   ]
  },
  {
   "cell_type": "code",
   "execution_count": 14,
   "id": "8a3a9abd",
   "metadata": {},
   "outputs": [],
   "source": [
    "# Тестуємо кожну модель та оцінюємо їх продуктивність\n",
    "for model_name, model in models.items():\n",
    "    # Predict and measure time\n",
    "    start_pred = time.time()\n",
    "    y_pred = model.predict(X_test)\n",
    "    end_pred = time.time()\n",
    "\n",
    "    # Calculate accuracy\n",
    "    accuracy = accuracy_score(y_test, y_pred)\n",
    "    rpt = classification_report(y_test, y_pred, output_dict=True)\n",
    "\n",
    "    model_results[model_name][\"accuracy\"] = accuracy\n",
    "    model_results[model_name][\"predict_time\"] = end_pred - start_pred\n",
    "    model_results[model_name][\"macro avg precision\"] = rpt[\"macro avg\"][\"precision\"]\n",
    "    model_results[model_name][\"macro avg recall\"] = rpt[\"macro avg\"][\"recall\"]\n",
    "    model_results[model_name][\"macro avg f1-score\"] = rpt[\"macro avg\"][\"f1-score\"]\n"
   ]
  },
  {
   "cell_type": "markdown",
   "id": "f5e803df",
   "metadata": {},
   "source": [
    "Виводимо результати"
   ]
  },
  {
   "cell_type": "code",
   "execution_count": 15,
   "id": "10f91da1",
   "metadata": {},
   "outputs": [
    {
     "name": "stdout",
     "output_type": "stream",
     "text": [
      "| Model                |   Accuracy |   Macro Avg Precision |   Macro Avg Recall |   Macro Avg F1-score |   Train Time (sec) |   Predict Time (sec) |\n",
      "|----------------------+------------+-----------------------+--------------------+----------------------+--------------------+----------------------|\n",
      "| LinearSVC            |   0.806848 |              0.799344 |           0.62415  |             0.644274 |          0.0528553 |            0.0118611 |\n",
      "| SVC (rbf kernel)     |   0.795793 |              0.886125 |           0.577571 |             0.575272 |          4.41242   |            2.40702   |\n",
      "| SVC (sigmoid kernel) |   0.653462 |              0.520797 |           0.520255 |             0.520463 |          4.87242   |            0.890131  |\n"
     ]
    }
   ],
   "source": [
    "# Форматуємо результати для виводу\n",
    "model_results_output = []\n",
    "for model_name in model_results.keys():\n",
    "    result = model_results[model_name]\n",
    "    model_results_output.append(\n",
    "        [\n",
    "            model_name,\n",
    "            result[\"accuracy\"],\n",
    "            result[\"macro avg precision\"],\n",
    "            result[\"macro avg recall\"],\n",
    "            result[\"macro avg f1-score\"],\n",
    "            result[\"train_time\"],\n",
    "            result[\"predict_time\"],\n",
    "        ]\n",
    "    )\n",
    "\n",
    "# Виводимо результати в табличному форматі\n",
    "print(\n",
    "    tabulate(\n",
    "        model_results_output,\n",
    "        headers=[\n",
    "            \"Model\",\n",
    "            \"Accuracy\",\n",
    "            \"Macro Avg Precision\",\n",
    "            \"Macro Avg Recall\",\n",
    "            \"Macro Avg F1-score\",\n",
    "            \"Train Time (sec)\",\n",
    "            \"Predict Time (sec)\",\n",
    "        ],\n",
    "        tablefmt=\"orgtbl\",\n",
    "    )\n",
    ")\n"
   ]
  }
 ],
 "metadata": {
  "kernelspec": {
   "display_name": "Python 3",
   "language": "python",
   "name": "python3"
  },
  "language_info": {
   "codemirror_mode": {
    "name": "ipython",
    "version": 3
   },
   "file_extension": ".py",
   "mimetype": "text/x-python",
   "name": "python",
   "nbconvert_exporter": "python",
   "pygments_lexer": "ipython3",
   "version": "3.12.7"
  }
 },
 "nbformat": 4,
 "nbformat_minor": 5
}
