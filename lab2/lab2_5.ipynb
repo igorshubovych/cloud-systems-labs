{
 "cells": [
  {
   "cell_type": "code",
   "execution_count": 1,
   "id": "78acaaf0",
   "metadata": {},
   "outputs": [
    {
     "name": "stdout",
     "output_type": "stream",
     "text": [
      "Accuracy: 0.7556\n",
      "Precision: 0.8333\n",
      "Recall: 0.7556\n",
      "F1 Score: 0.7503\n",
      "Cohen Kappa Score: 0.6431\n",
      "Matthews Corrcoef: 0.6831\n",
      "\t\tClassification Report:\n",
      "               precision    recall  f1-score   support\n",
      "\n",
      "           0       1.00      1.00      1.00        16\n",
      "           1       0.44      0.89      0.59         9\n",
      "           2       0.91      0.50      0.65        20\n",
      "\n",
      "    accuracy                           0.76        45\n",
      "   macro avg       0.78      0.80      0.75        45\n",
      "weighted avg       0.85      0.76      0.76        45\n",
      "\n"
     ]
    },
    {
     "data": {
      "image/png": "[encoded data removed]",
      "text/plain": [
       "<Figure size 640x480 with 1 Axes>"
      ]
     },
     "metadata": {},
     "output_type": "display_data"
    }
   ],
   "source": [
    "# ===================================================\n",
    "# Приклад класифікатора Ridge\n",
    "# ======================================================================\n",
    "import numpy as np\n",
    "from sklearn.datasets import load_iris\n",
    "from sklearn.linear_model import RidgeClassifier\n",
    "from sklearn.model_selection import train_test_split\n",
    "\n",
    "iris = load_iris()\n",
    "X, y = iris.data, iris.target\n",
    "Xtrain, Xtest, ytrain, ytest = train_test_split(X, y, test_size = 0.3,random_state = 0)\n",
    "clf = RidgeClassifier(tol = 1e-2, solver = \"sag\")\n",
    "clf.fit(Xtrain,ytrain)\n",
    "ypred = clf.predict(Xtest)\n",
    "\n",
    "from sklearn import metrics\n",
    "\n",
    "print('Accuracy:', np.round(metrics.accuracy_score(ytest,ypred),4))\n",
    "print('Precision:', np.round(metrics.precision_score(ytest,ypred,average = 'weighted'),4))\n",
    "print('Recall:', np.round(metrics.recall_score(ytest,ypred,average = 'weighted'),4))\n",
    "print('F1 Score:', np.round(metrics.f1_score(ytest,ypred,average = 'weighted'),4))\n",
    "print('Cohen Kappa Score:', np.round(metrics.cohen_kappa_score(ytest,ypred),4))\n",
    "print('Matthews Corrcoef:', np.round(metrics.matthews_corrcoef(ytest,ypred),4))\n",
    "print('\\t\\tClassification Report:\\n', metrics.classification_report(ypred,ytest))\n",
    "\n",
    "from sklearn.metrics import confusion_matrix\n",
    "from io import BytesIO #neded for plot\n",
    "import seaborn as sns; sns.set()\n",
    "import matplotlib.pyplot as plt\n",
    "\n",
    "mat = confusion_matrix(ytest, ypred)\n",
    "sns.heatmap(mat.T, square = True, annot = True, fmt = 'd', cbar = False)\n",
    "plt.xlabel('true label')\n",
    "plt.ylabel('predicted label')\n",
    "plt.savefig(\"Confusion.jpg\")\n",
    "\n",
    "# Save SVG in a fake file object.\n",
    "f = BytesIO()\n",
    "plt.savefig(f, format = \"svg\")"
   ]
  }
 ],
 "metadata": {
  "kernelspec": {
   "display_name": "ml",
   "language": "python",
   "name": "python3"
  },
  "language_info": {
   "codemirror_mode": {
    "name": "ipython",
    "version": 3
   },
   "file_extension": ".py",
   "mimetype": "text/x-python",
   "name": "python",
   "nbconvert_exporter": "python",
   "pygments_lexer": "ipython3",
   "version": "3.13.5"
  }
 },
 "nbformat": 4,
 "nbformat_minor": 5
}
